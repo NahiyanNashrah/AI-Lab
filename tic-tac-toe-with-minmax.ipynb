{
 "cells": [
  {
   "cell_type": "code",
   "execution_count": 1,
   "metadata": {},
   "outputs": [],
   "source": [
    "from random import choice\n",
    "from math import inf\n",
    "\n",
    "XPLAYER = +1\n",
    "OPLAYER = -1\n",
    "EMPTY = 0"
   ]
  },
  {
   "cell_type": "code",
   "execution_count": 2,
   "metadata": {},
   "outputs": [],
   "source": [
    "board = [[EMPTY, EMPTY, EMPTY],\n",
    "         [EMPTY, EMPTY, EMPTY],\n",
    "         [EMPTY, EMPTY, EMPTY]]"
   ]
  },
  {
   "cell_type": "code",
   "execution_count": 3,
   "metadata": {},
   "outputs": [],
   "source": [
    "def printBoard(brd):\n",
    "    chars = {XPLAYER: 'X', OPLAYER: 'O', EMPTY: ' '}\n",
    "    for x in brd:\n",
    "        for y in x:\n",
    "            ch = chars[y]\n",
    "            print(f'| {ch} |', end='')\n",
    "        print('\\n' + '---------------')\n",
    "    print('===============')"
   ]
  },
  {
   "cell_type": "code",
   "execution_count": 4,
   "metadata": {},
   "outputs": [],
   "source": [
    "def clearBoard(brd):\n",
    "    for x, row in enumerate(brd):\n",
    "        for y, col in enumerate(row):\n",
    "            brd[x][y] = EMPTY"
   ]
  },
  {
   "cell_type": "code",
   "execution_count": 5,
   "metadata": {},
   "outputs": [],
   "source": [
    "def winningPlayer(brd, player):\n",
    "    winningStates = [[brd[0][0], brd[0][1], brd[0][2]],\n",
    "                     [brd[1][0], brd[1][1], brd[1][2]],\n",
    "                     [brd[2][0], brd[2][1], brd[2][2]],\n",
    "                     [brd[0][0], brd[1][0], brd[2][0]],\n",
    "                     [brd[0][1], brd[1][1], brd[2][1]],\n",
    "                     [brd[0][2], brd[1][2], brd[2][2]],\n",
    "                     [brd[0][0], brd[1][1], brd[2][2]],\n",
    "                     [brd[0][2], brd[1][1], brd[2][0]]]\n",
    "\n",
    "    if [player, player, player] in winningStates:\n",
    "        return True\n",
    "\n",
    "    return False"
   ]
  },
  {
   "cell_type": "code",
   "execution_count": 6,
   "metadata": {},
   "outputs": [],
   "source": [
    "def gameWon(brd):\n",
    "    return winningPlayer(brd, XPLAYER) or winningPlayer(brd, OPLAYER)"
   ]
  },
  {
   "cell_type": "code",
   "execution_count": 7,
   "metadata": {},
   "outputs": [],
   "source": [
    "def printResult(brd):\n",
    "    if winningPlayer(brd, XPLAYER):\n",
    "        print('X has won! ' + '\\n')\n",
    "        clearBoard(brd)\n",
    "\n",
    "    elif winningPlayer(brd, OPLAYER):\n",
    "        print('O\\'s have won! ' + '\\n')\n",
    "        clearBoard(brd)\n",
    "\n",
    "    else:\n",
    "        print('Draw' + '\\n')\n",
    "        clearBoard(brd)"
   ]
  },
  {
   "cell_type": "code",
   "execution_count": 8,
   "metadata": {},
   "outputs": [],
   "source": [
    "def emptyCells(brd):\n",
    "    emptyC = []\n",
    "    for x, row in enumerate(brd):\n",
    "        for y, col in enumerate(row):\n",
    "            if brd[x][y] == EMPTY:\n",
    "                emptyC.append([x, y])\n",
    "\n",
    "    return emptyC"
   ]
  },
  {
   "cell_type": "code",
   "execution_count": 9,
   "metadata": {},
   "outputs": [],
   "source": [
    "def boardFull(brd):\n",
    "    if len(emptyCells(brd)) == 0:\n",
    "        return True\n",
    "    return False"
   ]
  },
  {
   "cell_type": "code",
   "execution_count": 10,
   "metadata": {},
   "outputs": [],
   "source": [
    "def setMove(brd, x, y, player):\n",
    "    brd[x][y] = player"
   ]
  },
  {
   "cell_type": "code",
   "execution_count": 11,
   "metadata": {},
   "outputs": [],
   "source": [
    "def playerMove(brd):\n",
    "    e = True\n",
    "    moves = {1: [0, 0], 2: [0, 1], 3: [0, 2],\n",
    "             4: [1, 0], 5: [1, 1], 6: [1, 2],\n",
    "             7: [2, 0], 8: [2, 1], 9: [2, 2]}\n",
    "    while e:\n",
    "        try:\n",
    "            move = int(input('Pick a position(1-9)'))\n",
    "            if move < 1 or move > 9:\n",
    "                print('Invalid location! ')\n",
    "            elif not (moves[move] in emptyCells(brd)):\n",
    "                print('Location filled')\n",
    "            else:\n",
    "                setMove(brd, moves[move][0], moves[move][1], XPLAYER)\n",
    "                printBoard(brd)\n",
    "                e = False\n",
    "        except(KeyError, ValueError):\n",
    "            print('Please pick a number!')"
   ]
  },
  {
   "cell_type": "code",
   "execution_count": 12,
   "metadata": {},
   "outputs": [],
   "source": [
    "def getScore(brd):\n",
    "    if winningPlayer(brd, XPLAYER):\n",
    "        return 10\n",
    "\n",
    "    elif winningPlayer(brd, OPLAYER):\n",
    "        return -10\n",
    "\n",
    "    else:\n",
    "        return 0"
   ]
  },
  {
   "cell_type": "code",
   "execution_count": 13,
   "metadata": {},
   "outputs": [],
   "source": [
    "def MiniMaxAB(brd, depth, alpha, beta, player):\n",
    "    row = -1\n",
    "    col = -1\n",
    "    if depth == 0 or gameWon(brd):\n",
    "        return [row, col, getScore(brd)]\n",
    "\n",
    "    else:\n",
    "        for cell in emptyCells(brd):\n",
    "            setMove(brd, cell[0], cell[1], player)\n",
    "            score = MiniMaxAB(brd, depth - 1, alpha, beta, -player)\n",
    "            if player == XPLAYER:\n",
    "                # X is always the max player\n",
    "                if score[2] > alpha:\n",
    "                    alpha = score[2]\n",
    "                    row = cell[0]\n",
    "                    col = cell[1]\n",
    "\n",
    "            else:\n",
    "                if score[2] < beta:\n",
    "                    beta = score[2]\n",
    "                    row = cell[0]\n",
    "                    col = cell[1]\n",
    "\n",
    "            setMove(brd, cell[0], cell[1], EMPTY)\n",
    "\n",
    "            if alpha >= beta:\n",
    "                break\n",
    "\n",
    "        if player == XPLAYER:\n",
    "            return [row, col, alpha]\n",
    "\n",
    "        else:\n",
    "            return [row, col, beta]"
   ]
  },
  {
   "cell_type": "code",
   "execution_count": 14,
   "metadata": {},
   "outputs": [],
   "source": [
    "def AIMove(brd):\n",
    "    if len(emptyCells(brd)) == 9:\n",
    "        x = choice([0, 1, 2])\n",
    "        y = choice([0, 1, 2])\n",
    "        setMove(brd, x, y, OPLAYER)\n",
    "        printBoard(brd)\n",
    "\n",
    "    else:\n",
    "        result = MiniMaxAB(brd, len(emptyCells(brd)), -inf, inf, OPLAYER)\n",
    "        setMove(brd, result[0], result[1], OPLAYER)\n",
    "        printBoard(brd)"
   ]
  },
  {
   "cell_type": "code",
   "execution_count": 15,
   "metadata": {},
   "outputs": [],
   "source": [
    "def makeMove(brd, player, mode):\n",
    "    if player == XPLAYER:\n",
    "        playerMove(brd)\n",
    "    else:\n",
    "        AIMove(brd)"
   ]
  },
  {
   "cell_type": "code",
   "execution_count": 16,
   "metadata": {},
   "outputs": [],
   "source": [
    "def playerVSai():\n",
    "    currentPlayer = XPLAYER\n",
    "\n",
    "    while not (boardFull(board) or gameWon(board)):\n",
    "        makeMove(board, currentPlayer, 1)\n",
    "        currentPlayer *= -1\n",
    "\n",
    "    printResult(board)"
   ]
  },
  {
   "cell_type": "code",
   "execution_count": 17,
   "metadata": {},
   "outputs": [],
   "source": [
    "def main():\n",
    "    while True:\n",
    "        user = input('Play?(Y/N) ')\n",
    "        if user.lower() == 'y':\n",
    "            playerVSai()\n",
    "        else:\n",
    "            print('Bye!')\n",
    "            break"
   ]
  },
  {
   "cell_type": "code",
   "execution_count": null,
   "metadata": {},
   "outputs": [],
   "source": [
    "main()"
   ]
  }
 ],
 "metadata": {
  "kernelspec": {
   "display_name": "Python 3",
   "language": "python",
   "name": "python3"
  },
  "language_info": {
   "codemirror_mode": {
    "name": "ipython",
    "version": 3
   },
   "file_extension": ".py",
   "mimetype": "text/x-python",
   "name": "python",
   "nbconvert_exporter": "python",
   "pygments_lexer": "ipython3",
   "version": "3.8.3"
  }
 },
 "nbformat": 4,
 "nbformat_minor": 4
}
